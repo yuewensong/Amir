{
 "cells": [
  {
   "cell_type": "code",
   "execution_count": 1,
   "metadata": {
    "collapsed": true
   },
   "outputs": [],
   "source": [
    "%matplotlib inline\n",
    "import pandas as pd\n",
    "import numpy as np\n",
    "import matplotlib.pyplot as plt"
   ]
  },
  {
   "cell_type": "markdown",
   "metadata": {},
   "source": [
    "    Player, manager, Pioneer/Executive and umpire are all eligible to be inducted into the HOF. In this article, player, instead of all the four posts was analyzed in order to find out what made a player a member of the Hall of Fame. The total number of the players elected as HOF member is 247.\n",
    "    Besides the fixed rules on who can be selected into the HOF, potential evaluation criteria, such as personal achievement, are concerned in this report. Actually, it will be a huge task if every aspects are expected to be taken into consideration as voting for the HOF itself is pretty complicated thing. To me, personal and team performance should be taken into consideration to decide whether a player is qualified to be chosen in the HOF. Based on the data downloaded from udacity website, three factors—player major league career time, awarded times, and times  playing in post-season match—were analyzed.\n",
    "    HallOfFame.csv contains the information on the playerID of the players inducted into the HOF. Master.csv contains the information on player major league career time, including their debut time and final game time. AwardsSharePlayers.csv contains the basic information of players who were awarded titles over their career time. Those three csv files are the objects of study."
   ]
  },
  {
   "cell_type": "code",
   "execution_count": 2,
   "metadata": {
    "collapsed": false
   },
   "outputs": [],
   "source": [
    "# read the HallOfFame.csv as Hall_Of_Fame\n",
    "# read the Master.csv as Master\n",
    "# read the AwardsSharePlayers.csv as Awards_Share_Players\n",
    "Hall_Of_Fame=pd.read_csv(r'F:\\udacity\\DAND\\project 2\\big boss\\baseball\\baseballdatabank-master\\HallOfFame.csv').fillna('')\n",
    "Master=pd.read_csv(r'F:\\udacity\\DAND\\project 2\\big boss\\baseball\\baseballdatabank-master\\Master.csv').fillna('')\n",
    "Awards_Share_Players=pd.read_csv(r'F:\\udacity\\DAND\\project 2\\big boss\\baseball\\baseballdatabank-master\\AwardsSharePlayers.csv').fillna('')\n",
    "BattingPost=pd.read_csv(r'F:\\udacity\\DAND\\project 2\\big boss\\baseball\\baseballdatabank-master\\BattingPost.csv').fillna('')"
   ]
  },
  {
   "cell_type": "markdown",
   "metadata": {},
   "source": [
    "    It is found that the Hall_Of_Fame dataframe contains not only the HOF players, but also those who are not. To get the targeted HOF players information, df.groupby() and df.get_group() are adopted as follows:"
   ]
  },
  {
   "cell_type": "code",
   "execution_count": 3,
   "metadata": {
    "collapsed": false
   },
   "outputs": [],
   "source": [
    "# group the Hall_Of_Fame by the keys of 'inducted' and 'category'\n",
    "Hall_Of_Fame_inducted_players=Hall_Of_Fame.groupby(['inducted','category'])"
   ]
  },
  {
   "cell_type": "code",
   "execution_count": 4,
   "metadata": {
    "collapsed": false
   },
   "outputs": [],
   "source": [
    "# get a dataframe of players inducted into the hall of fame\n",
    "target_playrs=Hall_Of_Fame_inducted_players.get_group(('Y','Player'))"
   ]
  },
  {
   "cell_type": "code",
   "execution_count": 5,
   "metadata": {
    "collapsed": false
   },
   "outputs": [
    {
     "data": {
      "text/plain": [
       "247"
      ]
     },
     "execution_count": 5,
     "metadata": {},
     "output_type": "execute_result"
    }
   ],
   "source": [
    "target_playrs['playerID'].count()"
   ]
  },
  {
   "cell_type": "markdown",
   "metadata": {},
   "source": [
    "    The total number of HOF players is 247. To get their major league career time, df.Master should be merged into df.target_playrs as the debut and final game dates are in df.Master."
   ]
  },
  {
   "cell_type": "code",
   "execution_count": 6,
   "metadata": {
    "collapsed": true
   },
   "outputs": [],
   "source": [
    "# get the basic information dataframe of the players voted as a member of hall of fame\n",
    "H_M=target_playrs.merge(Master, on='playerID', how='inner')"
   ]
  },
  {
   "cell_type": "markdown",
   "metadata": {},
   "source": [
    "    To calculate the player major league career time, the original debut and finalgame date needs to be first of all transformed by function date_convert(), and then the career time can be obtained by df.apply() using the function days_caculation()."
   ]
  },
  {
   "cell_type": "code",
   "execution_count": 7,
   "metadata": {
    "collapsed": false
   },
   "outputs": [],
   "source": [
    "# get the major league career time(days between debut and finalGmae) of the target players(the players accepted in \"Hall of Fmae\")\n",
    "from dateutil import parser\n",
    "def date_convert(date):\n",
    "    if date=='':\n",
    "        return 'NaN'\n",
    "    return parser.parse(date).date()\n",
    "def days_caculation(date):\n",
    "    try:\n",
    "        return (date['finalGame']-date['debut']).days\n",
    "    except TypeError:\n",
    "        pass\n",
    "debut_date=H_M['debut'].apply(date_convert)\n",
    "final_date=H_M['finalGame'].apply(date_convert)\n",
    "D_F=pd.concat([debut_date,final_date],axis=1)\n",
    "number_of_days=D_F.apply(days_caculation,axis=1)"
   ]
  },
  {
   "cell_type": "code",
   "execution_count": 8,
   "metadata": {
    "collapsed": false
   },
   "outputs": [],
   "source": [
    "# get the players' major league career time, number_of_days, with NaN values removed.\n",
    "D_number_of_days=number_of_days.dropna()"
   ]
  },
  {
   "cell_type": "code",
   "execution_count": 9,
   "metadata": {
    "collapsed": false
   },
   "outputs": [
    {
     "data": {
      "text/plain": [
       "count      221.000000\n",
       "mean      6453.420814\n",
       "std       1507.008883\n",
       "min         29.000000\n",
       "25%       5603.000000\n",
       "50%       6548.000000\n",
       "75%       7450.000000\n",
       "max      11836.000000\n",
       "dtype: float64"
      ]
     },
     "execution_count": 9,
     "metadata": {},
     "output_type": "execute_result"
    }
   ],
   "source": [
    "D_number_of_days.describe()"
   ]
  },
  {
   "cell_type": "markdown",
   "metadata": {},
   "source": [
    "    221 instead of 247 values are counted in df.number_of_days because there exists some NaN values in the df.number_of_days which is caused by the missing debut or finalgame date in the Master table. The mean of the 221 players major league career time is 6453 as it is shown in output[10].\n",
    "    To make a comparison of the HOF players and the average major league career time, the process is exerted to the Master table(all players' information recorded).What should be mentioned is that the minimum career time of the ordinary players is -4, which is obvious a data record mistake, while it doesn't cause a noteworthy difference to the statistical analysis. The mean of ordinary players major league career time is 1762, which is far less than that of the HOF players. What should be mentioned is that some of the HOF players have no major league career time recorded in the Master table. For example, this case happens on the players who played in the Negro League. So here the hypothesis that those missing information don't cause a difference is made. "
   ]
  },
  {
   "cell_type": "code",
   "execution_count": 10,
   "metadata": {
    "collapsed": false
   },
   "outputs": [],
   "source": [
    "# get the career period of all the players( players in the Master table)\n",
    "M_debut_date=Master['debut'].apply(date_convert)\n",
    "M_final_date=Master['finalGame'].apply(date_convert)\n",
    "M_D_F=pd.concat([M_debut_date,M_final_date],axis=1)\n",
    "M_number_of_days=M_D_F.apply(days_caculation,axis=1)"
   ]
  },
  {
   "cell_type": "code",
   "execution_count": 11,
   "metadata": {
    "collapsed": true
   },
   "outputs": [],
   "source": [
    "D_M_number_of_days=M_number_of_days.dropna()"
   ]
  },
  {
   "cell_type": "code",
   "execution_count": 12,
   "metadata": {
    "collapsed": false
   },
   "outputs": [
    {
     "data": {
      "text/plain": [
       "count    18653.000000\n",
       "mean      1762.067228\n",
       "std       1835.378564\n",
       "min         -4.000000\n",
       "25%        137.000000\n",
       "50%       1165.000000\n",
       "75%       2933.000000\n",
       "max      12862.000000\n",
       "dtype: float64"
      ]
     },
     "execution_count": 12,
     "metadata": {},
     "output_type": "execute_result"
    }
   ],
   "source": [
    "# the average career days of all the players(except for those players without debut or finalGame day recorded in the Master table)\n",
    "D_M_number_of_days.describe()"
   ]
  },
  {
   "cell_type": "code",
   "execution_count": 13,
   "metadata": {
    "collapsed": false
   },
   "outputs": [
    {
     "data": {
      "text/plain": [
       "11360"
      ]
     },
     "execution_count": 13,
     "metadata": {},
     "output_type": "execute_result"
    }
   ],
   "source": [
    "D_M_number_of_days[D_M_number_of_days == -4].index[0]"
   ]
  },
  {
   "cell_type": "code",
   "execution_count": 14,
   "metadata": {
    "collapsed": false
   },
   "outputs": [
    {
     "data": {
      "text/plain": [
       "playerID               menzete01\n",
       "birthYear                   1897\n",
       "birthMonth                    11\n",
       "birthDay                       4\n",
       "birthCountry                 USA\n",
       "birthState                    MO\n",
       "birthCity              St. Louis\n",
       "deathYear                   1969\n",
       "deathMonth                    12\n",
       "deathDay                      23\n",
       "deathCountry                 USA\n",
       "deathState                    MO\n",
       "deathCity              St. Louis\n",
       "nameFirst                    Ted\n",
       "nameLast                   Menze\n",
       "nameGiven       Theodore Charles\n",
       "weight                       172\n",
       "height                        69\n",
       "bats                           R\n",
       "throws                         R\n",
       "debut                 1918-04-27\n",
       "finalGame             1918-04-23\n",
       "retroID                 menzt101\n",
       "bbrefID                menzete01\n",
       "Name: 11360, dtype: object"
      ]
     },
     "execution_count": 14,
     "metadata": {},
     "output_type": "execute_result"
    }
   ],
   "source": [
    "# find the element with abnormal career time.\n",
    "Master.loc[11360]"
   ]
  },
  {
   "cell_type": "markdown",
   "metadata": {},
   "source": [
    "    As the HOF players' mean major league career time is remarkablely larger than that of the average players, it is conjectured that players with longer major league career time are more likely to be selected as a HOF player. To prove the conjecture, the amount of players who have a career time longer than 6453 days is counted, 304. It counts about 0.016 of the total players recorded in the Master table, which indicates that the HOF average career time is significantly larger than the ordinary players."
   ]
  },
  {
   "cell_type": "code",
   "execution_count": 15,
   "metadata": {
    "collapsed": false
   },
   "outputs": [],
   "source": [
    "# get a Series with career time(days) and its frequency in it\n",
    "M_days_frequency=D_M_number_of_days.value_counts()"
   ]
  },
  {
   "cell_type": "code",
   "execution_count": 16,
   "metadata": {
    "collapsed": true
   },
   "outputs": [],
   "source": [
    "# convert pd.Series to pd.DataFrame\n",
    "M_days_frequency_df=pd.DataFrame({'Days':M_days_frequency.index, 'Frequency':M_days_frequency.values})"
   ]
  },
  {
   "cell_type": "code",
   "execution_count": 17,
   "metadata": {
    "collapsed": true
   },
   "outputs": [],
   "source": [
    "# sort df.M_days_frequency_df by 'Days' in size order\n",
    "S_M_days_frequency_df=M_days_frequency_df.sort_values(by='Days')"
   ]
  },
  {
   "cell_type": "code",
   "execution_count": 18,
   "metadata": {
    "collapsed": true
   },
   "outputs": [],
   "source": [
    "# Remove values less than 6453.420814 out of df.S_M_days_frequency_df \n",
    "M_S_M_days_frequency_df=S_M_days_frequency_df[S_M_days_frequency_df.Days > 6453.420814]"
   ]
  },
  {
   "cell_type": "code",
   "execution_count": 19,
   "metadata": {
    "collapsed": false
   },
   "outputs": [],
   "source": [
    "# get the total number of players who have longer career time than HOF average career time.\n",
    "above_HOF_mean=M_S_M_days_frequency_df.count()"
   ]
  },
  {
   "cell_type": "code",
   "execution_count": 20,
   "metadata": {
    "collapsed": false
   },
   "outputs": [
    {
     "data": {
      "text/plain": [
       "304"
      ]
     },
     "execution_count": 20,
     "metadata": {},
     "output_type": "execute_result"
    }
   ],
   "source": [
    "# number of players who have longer career time than HOF average career time\n",
    "above_HOF_mean.loc['Days']"
   ]
  },
  {
   "cell_type": "code",
   "execution_count": 21,
   "metadata": {
    "collapsed": false
   },
   "outputs": [
    {
     "data": {
      "text/plain": [
       "18653"
      ]
     },
     "execution_count": 21,
     "metadata": {},
     "output_type": "execute_result"
    }
   ],
   "source": [
    "# total number of players with career time in record\n",
    "D_M_number_of_days.count()"
   ]
  },
  {
   "cell_type": "code",
   "execution_count": 22,
   "metadata": {
    "collapsed": false
   },
   "outputs": [],
   "source": [
    "# percent of the players longer career time than HOF average in all the players\n",
    "percent_above_HOF_mean=float(above_HOF_mean.loc['Days'])/D_M_number_of_days.count()"
   ]
  },
  {
   "cell_type": "code",
   "execution_count": 23,
   "metadata": {
    "collapsed": false
   },
   "outputs": [
    {
     "data": {
      "text/plain": [
       "0.016297646491181043"
      ]
     },
     "execution_count": 23,
     "metadata": {},
     "output_type": "execute_result"
    }
   ],
   "source": [
    "percent_above_HOF_mean"
   ]
  },
  {
   "cell_type": "markdown",
   "metadata": {},
   "source": [
    "    For those baseball superstars, winning an award is definitely an important way to expand their influence. So it is conjectured that number of awards might be an important factor to vote for a HOF player.\n",
    "    To start the analysis, df.Awards_Share_Players should be first of all merged into pd.target_players, and obtain df.H_A with HOF players awards information in."
   ]
  },
  {
   "cell_type": "code",
   "execution_count": 24,
   "metadata": {
    "collapsed": false
   },
   "outputs": [],
   "source": [
    "# get the players voted as a member of hall of fame dataframe with awards information \n",
    "H_A=target_playrs.merge(Awards_Share_Players, on='playerID', how='left')"
   ]
  },
  {
   "cell_type": "code",
   "execution_count": 25,
   "metadata": {
    "collapsed": false
   },
   "outputs": [],
   "source": [
    "H_A_groupby_playerID=H_A.groupby('playerID')"
   ]
  },
  {
   "cell_type": "code",
   "execution_count": 26,
   "metadata": {
    "collapsed": false
   },
   "outputs": [
    {
     "data": {
      "text/plain": [
       "count    247.000000\n",
       "mean       5.740891\n",
       "std        5.058767\n",
       "min        0.000000\n",
       "25%        0.000000\n",
       "50%        6.000000\n",
       "75%        9.500000\n",
       "max       21.000000\n",
       "Name: awardID, dtype: float64"
      ]
     },
     "execution_count": 26,
     "metadata": {},
     "output_type": "execute_result"
    }
   ],
   "source": [
    "# get the average awarded times of the Hall of fame players\n",
    "H_A_groupby_playerID.count()['awardID'].describe()"
   ]
  },
  {
   "cell_type": "code",
   "execution_count": 27,
   "metadata": {
    "collapsed": true
   },
   "outputs": [],
   "source": [
    "# get all players dataframe with awards information \n",
    "M_A=Master.merge(Awards_Share_Players, on='playerID', how='left')"
   ]
  },
  {
   "cell_type": "code",
   "execution_count": 28,
   "metadata": {
    "collapsed": true
   },
   "outputs": [],
   "source": [
    "M_A_groupby_playerID=M_A.groupby('playerID')"
   ]
  },
  {
   "cell_type": "code",
   "execution_count": 29,
   "metadata": {
    "collapsed": false
   },
   "outputs": [
    {
     "data": {
      "text/plain": [
       "count    18846.000000\n",
       "mean         0.360501\n",
       "std          1.361775\n",
       "min          0.000000\n",
       "25%          0.000000\n",
       "50%          0.000000\n",
       "75%          0.000000\n",
       "max         23.000000\n",
       "Name: awardID, dtype: float64"
      ]
     },
     "execution_count": 29,
     "metadata": {},
     "output_type": "execute_result"
    }
   ],
   "source": [
    "# get the average awarded times of all players\n",
    "M_A_groupby_playerID.count()['awardID'].describe()"
   ]
  },
  {
   "cell_type": "markdown",
   "metadata": {},
   "source": [
    "    To make a comparison, the statistical describe of the average players recorded in Master table is obtained similarly, which is shown in output[29]. It is found that the HOF players' mean awards is 5.74, and the average players' mean awards is 0.36. This result strongly implies that player's award number does have an effect on a player to be voted as a member of the HOF.\n",
    "    To have a better understanding of the awards number difference between HOF players and the average players, the award number distribution of all players is plotted in Fig.1:"
   ]
  },
  {
   "cell_type": "code",
   "execution_count": 30,
   "metadata": {
    "collapsed": true
   },
   "outputs": [],
   "source": [
    "import collections \n",
    "import pylab as pl"
   ]
  },
  {
   "cell_type": "code",
   "execution_count": 31,
   "metadata": {
    "collapsed": false
   },
   "outputs": [],
   "source": [
    "Awards_counter=collections.Counter(M_A_groupby_playerID.count()['awardID'].tolist())"
   ]
  },
  {
   "cell_type": "code",
   "execution_count": 32,
   "metadata": {
    "collapsed": false
   },
   "outputs": [
    {
     "data": {
      "text/plain": [
       "Counter({0: 16435,\n",
       "         1: 1098,\n",
       "         2: 440,\n",
       "         3: 259,\n",
       "         4: 190,\n",
       "         5: 112,\n",
       "         6: 68,\n",
       "         7: 65,\n",
       "         8: 61,\n",
       "         9: 30,\n",
       "         10: 21,\n",
       "         11: 25,\n",
       "         12: 13,\n",
       "         13: 6,\n",
       "         14: 5,\n",
       "         15: 6,\n",
       "         16: 5,\n",
       "         18: 2,\n",
       "         19: 1,\n",
       "         20: 2,\n",
       "         21: 1,\n",
       "         23: 1})"
      ]
     },
     "execution_count": 32,
     "metadata": {},
     "output_type": "execute_result"
    }
   ],
   "source": [
    "Awards_counter"
   ]
  },
  {
   "cell_type": "code",
   "execution_count": 33,
   "metadata": {
    "collapsed": false
   },
   "outputs": [],
   "source": [
    "Frequency=Awards_counter.values()\n",
    "Award_number=Awards_counter.keys()"
   ]
  },
  {
   "cell_type": "code",
   "execution_count": 34,
   "metadata": {
    "collapsed": false
   },
   "outputs": [
    {
     "data": {
      "image/png": "[encoded data removed]",
      "text/plain": [
       "<matplotlib.figure.Figure at 0xa0ae908>"
      ]
     },
     "metadata": {},
     "output_type": "display_data"
    }
   ],
   "source": [
    "pl.plot(Award_number,Frequency)\n",
    "plt.title('Fig.1  Awards number distribution')\n",
    "plt.xlabel('Number of awards winned')\n",
    "plt.ylabel('Frequency')\n",
    "pl.show()"
   ]
  },
  {
   "cell_type": "code",
   "execution_count": 35,
   "metadata": {
    "collapsed": false
   },
   "outputs": [],
   "source": [
    "five_awards_players_total=sum(M_A_groupby_playerID.count()['awardID']>5)"
   ]
  },
  {
   "cell_type": "code",
   "execution_count": 36,
   "metadata": {
    "collapsed": false
   },
   "outputs": [],
   "source": [
    "five_awards_players_HOF=sum(H_A_groupby_playerID.count()['awardID']>5)"
   ]
  },
  {
   "cell_type": "code",
   "execution_count": 37,
   "metadata": {
    "collapsed": false
   },
   "outputs": [
    {
     "name": "stdout",
     "output_type": "stream",
     "text": [
      "312\n",
      "125\n"
     ]
    },
    {
     "data": {
      "text/plain": [
       "0.40064102564102566"
      ]
     },
     "execution_count": 37,
     "metadata": {},
     "output_type": "execute_result"
    }
   ],
   "source": [
    "print five_awards_players_total\n",
    "print five_awards_players_HOF\n",
    "float(five_awards_players_HOF)/five_awards_players_total"
   ]
  },
  {
   "cell_type": "markdown",
   "metadata": {},
   "source": [
    "    As is shown in Fig.1, it is easy to find that there are quite few players who might win 5 or more awards. Of all the 312 players who win more than 5 awards, 125 of them are inducted into the HOF. It indicates that the number of awards a player win has significant effect on whether the players can be inducted as a member of the HOF."
   ]
  },
  {
   "cell_type": "markdown",
   "metadata": {},
   "source": [
    "    Besides major league career time and award number, how many times a player played in post-season match is conjectured to be a reasonable factor to decide whether a player can be inducted into the HOF. Here we make a hypothesis that all the players who have taken a post-season match is recorded in the PostBattling table, and all the following analyses are based on this premise.\n",
    "    The mean post-season matches a HOF player played in his career time is 3.37 as shown in output[42], and the mean post-season matches an ordinary  player played in his career time is 0.620 as shown in output[43]. This huge gap between the HOF players and the ordinary players indicates that post-season experiences have an influence on the HOF voting and players who participated more post-season matches are more likely to be inducted into the HOF."
   ]
  },
  {
   "cell_type": "code",
   "execution_count": 38,
   "metadata": {
    "collapsed": false
   },
   "outputs": [],
   "source": [
    "# get a Series of the playerID frequency from the dataframe\n",
    "BP_playerID_frequency=BattingPost['playerID'].value_counts()"
   ]
  },
  {
   "cell_type": "code",
   "execution_count": 39,
   "metadata": {
    "collapsed": false
   },
   "outputs": [],
   "source": [
    "# convert the BP_playerID_frequency Seires to a dataframe with ‘playerID’，'counts' as its columns\n",
    "BP_playerID_frequency_df = BP_playerID_frequency.reset_index()\n",
    "BP_playerID_frequency_df.columns=['playerID', 'counts']"
   ]
  },
  {
   "cell_type": "code",
   "execution_count": 40,
   "metadata": {
    "collapsed": true
   },
   "outputs": [],
   "source": [
    "# get the players voted as a member of hall of fame dataframe with Post season information \n",
    "H_P=target_playrs.merge(BP_playerID_frequency_df, on='playerID', how='left')\n",
    "# get the normal players in Master table with Post season information \n",
    "M_P=Master.merge(BP_playerID_frequency_df, on='playerID', how='left')"
   ]
  },
  {
   "cell_type": "code",
   "execution_count": 41,
   "metadata": {
    "collapsed": true
   },
   "outputs": [],
   "source": [
    "H_P['counts'].fillna(0,inplace=True)\n",
    "M_P['counts'].fillna(0,inplace=True)"
   ]
  },
  {
   "cell_type": "code",
   "execution_count": 42,
   "metadata": {
    "collapsed": false
   },
   "outputs": [
    {
     "data": {
      "text/plain": [
       "count    247.000000\n",
       "mean       3.372470\n",
       "std        3.769655\n",
       "min        0.000000\n",
       "25%        1.000000\n",
       "50%        2.000000\n",
       "75%        5.000000\n",
       "max       23.000000\n",
       "Name: counts, dtype: float64"
      ]
     },
     "execution_count": 42,
     "metadata": {},
     "output_type": "execute_result"
    }
   ],
   "source": [
    "H_P['counts'].describe()"
   ]
  },
  {
   "cell_type": "code",
   "execution_count": 43,
   "metadata": {
    "collapsed": false
   },
   "outputs": [
    {
     "data": {
      "text/plain": [
       "count    18846.000000\n",
       "mean         0.620291\n",
       "std          1.742738\n",
       "min          0.000000\n",
       "25%          0.000000\n",
       "50%          0.000000\n",
       "75%          0.000000\n",
       "max         33.000000\n",
       "Name: counts, dtype: float64"
      ]
     },
     "execution_count": 43,
     "metadata": {},
     "output_type": "execute_result"
    }
   ],
   "source": [
    "M_P['counts'].describe()"
   ]
  },
  {
   "cell_type": "markdown",
   "metadata": {},
   "source": [
    "    To find out the influence of post-season experience on the HOF voting, the amount of HOF and average players with different numbers of awards are counted respectively. To make a better analysis, the possibility of players with different numbers of awards entering the HOF is signified by the ratio of the two numbers, ie, amount of HOF players and amount of average players at equal awards number. The result is shown in Fig.3. It is found that the possibility of entering the HOF is becoming larger and larger as the awards number increases, where the awards number 23 is an exceptional because the Sample size is too small. The Fig.2 trend indicates that players with more award titles are more likely to be inducted into the HOF."
   ]
  },
  {
   "cell_type": "code",
   "execution_count": 44,
   "metadata": {
    "collapsed": false
   },
   "outputs": [],
   "source": [
    "H_P_T=H_P['counts'].value_counts()\n",
    "M_P_T=M_P['counts'].value_counts()"
   ]
  },
  {
   "cell_type": "code",
   "execution_count": 45,
   "metadata": {
    "collapsed": true
   },
   "outputs": [],
   "source": [
    "H_P_T_df=pd.DataFrame({'Times':H_P_T.index, 'H_Frequency':H_P_T.values})\n",
    "M_P_T_df=pd.DataFrame({'Times':M_P_T.index, 'M_Frequency':M_P_T.values})"
   ]
  },
  {
   "cell_type": "code",
   "execution_count": 46,
   "metadata": {
    "collapsed": false
   },
   "outputs": [],
   "source": [
    "S_H_P_T_df=H_P_T_df.sort_values(by='Times')\n",
    "S_M_P_T_df=M_P_T_df.sort_values(by='Times')"
   ]
  },
  {
   "cell_type": "code",
   "execution_count": 47,
   "metadata": {
    "collapsed": true
   },
   "outputs": [],
   "source": [
    "S_MH_P_T_df=S_M_P_T_df.merge(S_H_P_T_df,on='Times',how='right')"
   ]
  },
  {
   "cell_type": "code",
   "execution_count": 48,
   "metadata": {
    "collapsed": false
   },
   "outputs": [],
   "source": [
    "S_MH_P_T_df['percentage']=S_MH_P_T_df.H_Frequency/S_MH_P_T_df.M_Frequency"
   ]
  },
  {
   "cell_type": "code",
   "execution_count": 49,
   "metadata": {
    "collapsed": false,
    "scrolled": true
   },
   "outputs": [
    {
     "data": {
      "image/png": "[encoded data removed]",
      "text/plain": [
       "<matplotlib.figure.Figure at 0xa0aeb70>"
      ]
     },
     "metadata": {},
     "output_type": "display_data"
    }
   ],
   "source": [
    "plt.plot(S_MH_P_T_df['Times'], S_MH_P_T_df['percentage'], label=None)\n",
    "plt.title('Fig.2  Possibility of players with different number awards to be the HOF')\n",
    "plt.xlabel('Number of awards winned')\n",
    "plt.ylabel('Possibility to be a HOF player')\n",
    "pl.show()"
   ]
  },
  {
   "cell_type": "markdown",
   "metadata": {
    "collapsed": true
   },
   "source": [
    "In summary，all of the three factors—player major league career time, awarded times, and times  playing in post-season match— are believed to be reference indexes in HOF players voting process, but the analysis result doesn't show a causal relation between the analyzed factors and the inducting result."
   ]
  }
 ],
 "metadata": {
  "anaconda-cloud": {},
  "kernelspec": {
   "display_name": "Python [Root]",
   "language": "python",
   "name": "Python [Root]"
  },
  "language_info": {
   "codemirror_mode": {
    "name": "ipython",
    "version": 2
   },
   "file_extension": ".py",
   "mimetype": "text/x-python",
   "name": "python",
   "nbconvert_exporter": "python",
   "pygments_lexer": "ipython2",
   "version": "2.7.12"
  }
 },
 "nbformat": 4,
 "nbformat_minor": 0
}
